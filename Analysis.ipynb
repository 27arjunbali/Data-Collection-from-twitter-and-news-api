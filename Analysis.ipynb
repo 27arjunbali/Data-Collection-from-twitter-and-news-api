{
 "cells": [
  {
   "cell_type": "code",
   "execution_count": 1,
   "metadata": {},
   "outputs": [],
   "source": [
    "import pandas as pd"
   ]
  },
  {
   "cell_type": "code",
   "execution_count": 3,
   "metadata": {},
   "outputs": [],
   "source": [
    "df=pd.read_csv('new_json.csv')"
   ]
  },
  {
   "cell_type": "code",
   "execution_count": 4,
   "metadata": {},
   "outputs": [
    {
     "data": {
      "text/html": [
       "<div>\n",
       "<style scoped>\n",
       "    .dataframe tbody tr th:only-of-type {\n",
       "        vertical-align: middle;\n",
       "    }\n",
       "\n",
       "    .dataframe tbody tr th {\n",
       "        vertical-align: top;\n",
       "    }\n",
       "\n",
       "    .dataframe thead th {\n",
       "        text-align: right;\n",
       "    }\n",
       "</style>\n",
       "<table border=\"1\" class=\"dataframe\">\n",
       "  <thead>\n",
       "    <tr style=\"text-align: right;\">\n",
       "      <th></th>\n",
       "      <th>author</th>\n",
       "      <th>description</th>\n",
       "      <th>publishedAt</th>\n",
       "      <th>source</th>\n",
       "      <th>title</th>\n",
       "      <th>url</th>\n",
       "      <th>urlToImage</th>\n",
       "      <th>category</th>\n",
       "      <th>scraping_date</th>\n",
       "    </tr>\n",
       "  </thead>\n",
       "  <tbody>\n",
       "    <tr>\n",
       "      <th>0</th>\n",
       "      <td>https://www.abc.net.au/news/jane-norman/5873958</td>\n",
       "      <td>The Liberal Party paid for Ann Sudmalis to ret...</td>\n",
       "      <td>2019-02-10T13:03:00Z</td>\n",
       "      <td>abc-news-au</td>\n",
       "      <td>Liberal Party pays for backbencher to return f...</td>\n",
       "      <td>http://www.abc.net.au/news/2019-02-11/liberal-...</td>\n",
       "      <td>https://www.abc.net.au/news/image/10255140-16x...</td>\n",
       "      <td>general</td>\n",
       "      <td>2019-02-10 20:30:37.592503</td>\n",
       "    </tr>\n",
       "    <tr>\n",
       "      <th>1</th>\n",
       "      <td>https://www.abc.net.au/news/stephen-letts/5639296</td>\n",
       "      <td>With global markets in a steep decline six wee...</td>\n",
       "      <td>2019-02-10T10:56:10Z</td>\n",
       "      <td>abc-news-au</td>\n",
       "      <td>The Fed's 'logical panic' adds more fuel to th...</td>\n",
       "      <td>http://www.abc.net.au/news/2019-02-10/federal-...</td>\n",
       "      <td>https://www.abc.net.au/news/image/10400300-16x...</td>\n",
       "      <td>general</td>\n",
       "      <td>2019-02-10 20:30:37.592503</td>\n",
       "    </tr>\n",
       "    <tr>\n",
       "      <th>2</th>\n",
       "      <td>https://www.abc.net.au/news/chelsea-heaney/107...</td>\n",
       "      <td>At least 13 people in Territory prisons are th...</td>\n",
       "      <td>2019-02-09T19:17:00Z</td>\n",
       "      <td>abc-news-au</td>\n",
       "      <td>Justin Walker has been in a Territory prison f...</td>\n",
       "      <td>http://www.abc.net.au/news/2019-02-10/justin-w...</td>\n",
       "      <td>https://www.abc.net.au/news/image/10796780-16x...</td>\n",
       "      <td>general</td>\n",
       "      <td>2019-02-10 20:30:37.592503</td>\n",
       "    </tr>\n",
       "    <tr>\n",
       "      <th>3</th>\n",
       "      <td>https://www.abc.net.au/news/kevin-nguyen/10373...</td>\n",
       "      <td>The pilot of a World War II aircraft walks awa...</td>\n",
       "      <td>2019-02-10T05:11:53Z</td>\n",
       "      <td>abc-news-au</td>\n",
       "      <td>Tiger moth plane makes emergency landing on Ne...</td>\n",
       "      <td>http://www.abc.net.au/news/2019-02-10/tiger-mo...</td>\n",
       "      <td>https://www.abc.net.au/news/image/10797974-16x...</td>\n",
       "      <td>general</td>\n",
       "      <td>2019-02-10 20:30:37.592503</td>\n",
       "    </tr>\n",
       "    <tr>\n",
       "      <th>4</th>\n",
       "      <td>Joanna Prendergast</td>\n",
       "      <td>After more than a decade on the drawing board,...</td>\n",
       "      <td>2019-02-09T09:14:40Z</td>\n",
       "      <td>abc-news-au</td>\n",
       "      <td>The farm shed invention that could power this ...</td>\n",
       "      <td>http://www.abc.net.au/news/rural/2019-02-10/we...</td>\n",
       "      <td>https://www.abc.net.au/cm/rimage/10646550-16x9...</td>\n",
       "      <td>general</td>\n",
       "      <td>2019-02-10 20:30:37.592503</td>\n",
       "    </tr>\n",
       "  </tbody>\n",
       "</table>\n",
       "</div>"
      ],
      "text/plain": [
       "                                              author  \\\n",
       "0    https://www.abc.net.au/news/jane-norman/5873958   \n",
       "1  https://www.abc.net.au/news/stephen-letts/5639296   \n",
       "2  https://www.abc.net.au/news/chelsea-heaney/107...   \n",
       "3  https://www.abc.net.au/news/kevin-nguyen/10373...   \n",
       "4                                 Joanna Prendergast   \n",
       "\n",
       "                                         description           publishedAt  \\\n",
       "0  The Liberal Party paid for Ann Sudmalis to ret...  2019-02-10T13:03:00Z   \n",
       "1  With global markets in a steep decline six wee...  2019-02-10T10:56:10Z   \n",
       "2  At least 13 people in Territory prisons are th...  2019-02-09T19:17:00Z   \n",
       "3  The pilot of a World War II aircraft walks awa...  2019-02-10T05:11:53Z   \n",
       "4  After more than a decade on the drawing board,...  2019-02-09T09:14:40Z   \n",
       "\n",
       "        source                                              title  \\\n",
       "0  abc-news-au  Liberal Party pays for backbencher to return f...   \n",
       "1  abc-news-au  The Fed's 'logical panic' adds more fuel to th...   \n",
       "2  abc-news-au  Justin Walker has been in a Territory prison f...   \n",
       "3  abc-news-au  Tiger moth plane makes emergency landing on Ne...   \n",
       "4  abc-news-au  The farm shed invention that could power this ...   \n",
       "\n",
       "                                                 url  \\\n",
       "0  http://www.abc.net.au/news/2019-02-11/liberal-...   \n",
       "1  http://www.abc.net.au/news/2019-02-10/federal-...   \n",
       "2  http://www.abc.net.au/news/2019-02-10/justin-w...   \n",
       "3  http://www.abc.net.au/news/2019-02-10/tiger-mo...   \n",
       "4  http://www.abc.net.au/news/rural/2019-02-10/we...   \n",
       "\n",
       "                                          urlToImage category  \\\n",
       "0  https://www.abc.net.au/news/image/10255140-16x...  general   \n",
       "1  https://www.abc.net.au/news/image/10400300-16x...  general   \n",
       "2  https://www.abc.net.au/news/image/10796780-16x...  general   \n",
       "3  https://www.abc.net.au/news/image/10797974-16x...  general   \n",
       "4  https://www.abc.net.au/cm/rimage/10646550-16x9...  general   \n",
       "\n",
       "                scraping_date  \n",
       "0  2019-02-10 20:30:37.592503  \n",
       "1  2019-02-10 20:30:37.592503  \n",
       "2  2019-02-10 20:30:37.592503  \n",
       "3  2019-02-10 20:30:37.592503  \n",
       "4  2019-02-10 20:30:37.592503  "
      ]
     },
     "execution_count": 4,
     "metadata": {},
     "output_type": "execute_result"
    }
   ],
   "source": [
    "df.head()"
   ]
  },
  {
   "cell_type": "code",
   "execution_count": 9,
   "metadata": {},
   "outputs": [],
   "source": [
    "from pymongo import MongoClient\n",
    "\n",
    "class Connect(object):\n",
    "    @staticmethod    \n",
    "    def get_connection():\n",
    "        return MongoClient(\"mongodb://$[username]:$[password]@$[hostlist]/$[twitterdb]?authSource=$[authSource]\")"
   ]
  },
  {
   "cell_type": "code",
   "execution_count": 12,
   "metadata": {},
   "outputs": [
    {
     "ename": "InvalidURI",
     "evalue": "Bad database name \"$[twitterdb]\"",
     "output_type": "error",
     "traceback": [
      "\u001b[1;31m---------------------------------------------------------------------------\u001b[0m",
      "\u001b[1;31mInvalidURI\u001b[0m                                Traceback (most recent call last)",
      "\u001b[1;32m<ipython-input-12-d7015fdfcecc>\u001b[0m in \u001b[0;36m<module>\u001b[1;34m()\u001b[0m\n\u001b[0;32m      2\u001b[0m \u001b[1;32mfrom\u001b[0m \u001b[0mpymongo\u001b[0m \u001b[1;32mimport\u001b[0m \u001b[0mMongoClient\u001b[0m\u001b[1;33m\u001b[0m\u001b[0m\n\u001b[0;32m      3\u001b[0m \u001b[1;33m\u001b[0m\u001b[0m\n\u001b[1;32m----> 4\u001b[1;33m \u001b[0mconnection\u001b[0m \u001b[1;33m=\u001b[0m \u001b[0mConnect\u001b[0m\u001b[1;33m.\u001b[0m\u001b[0mget_connection\u001b[0m\u001b[1;33m(\u001b[0m\u001b[1;33m)\u001b[0m\u001b[1;33m\u001b[0m\u001b[0m\n\u001b[0m",
      "\u001b[1;32m<ipython-input-9-df568faba92d>\u001b[0m in \u001b[0;36mget_connection\u001b[1;34m()\u001b[0m\n\u001b[0;32m      4\u001b[0m     \u001b[1;33m@\u001b[0m\u001b[0mstaticmethod\u001b[0m\u001b[1;33m\u001b[0m\u001b[0m\n\u001b[0;32m      5\u001b[0m     \u001b[1;32mdef\u001b[0m \u001b[0mget_connection\u001b[0m\u001b[1;33m(\u001b[0m\u001b[1;33m)\u001b[0m\u001b[1;33m:\u001b[0m\u001b[1;33m\u001b[0m\u001b[0m\n\u001b[1;32m----> 6\u001b[1;33m         \u001b[1;32mreturn\u001b[0m \u001b[0mMongoClient\u001b[0m\u001b[1;33m(\u001b[0m\u001b[1;34m\"mongodb://$[username]:$[password]@$[hostlist]/$[twitterdb]?authSource=$[authSource]\"\u001b[0m\u001b[1;33m)\u001b[0m\u001b[1;33m\u001b[0m\u001b[0m\n\u001b[0m",
      "\u001b[1;32m~\\Anaconda3\\lib\\site-packages\\pymongo\\mongo_client.py\u001b[0m in \u001b[0;36m__init__\u001b[1;34m(self, host, port, document_class, tz_aware, connect, **kwargs)\u001b[0m\n\u001b[0;32m    492\u001b[0m         \u001b[1;32mfor\u001b[0m \u001b[0mentity\u001b[0m \u001b[1;32min\u001b[0m \u001b[0mhost\u001b[0m\u001b[1;33m:\u001b[0m\u001b[1;33m\u001b[0m\u001b[0m\n\u001b[0;32m    493\u001b[0m             \u001b[1;32mif\u001b[0m \u001b[1;34m\"://\"\u001b[0m \u001b[1;32min\u001b[0m \u001b[0mentity\u001b[0m\u001b[1;33m:\u001b[0m\u001b[1;33m\u001b[0m\u001b[0m\n\u001b[1;32m--> 494\u001b[1;33m                 \u001b[0mres\u001b[0m \u001b[1;33m=\u001b[0m \u001b[0muri_parser\u001b[0m\u001b[1;33m.\u001b[0m\u001b[0mparse_uri\u001b[0m\u001b[1;33m(\u001b[0m\u001b[0mentity\u001b[0m\u001b[1;33m,\u001b[0m \u001b[0mport\u001b[0m\u001b[1;33m,\u001b[0m \u001b[0mwarn\u001b[0m\u001b[1;33m=\u001b[0m\u001b[1;32mTrue\u001b[0m\u001b[1;33m)\u001b[0m\u001b[1;33m\u001b[0m\u001b[0m\n\u001b[0m\u001b[0;32m    495\u001b[0m                 \u001b[0mseeds\u001b[0m\u001b[1;33m.\u001b[0m\u001b[0mupdate\u001b[0m\u001b[1;33m(\u001b[0m\u001b[0mres\u001b[0m\u001b[1;33m[\u001b[0m\u001b[1;34m\"nodelist\"\u001b[0m\u001b[1;33m]\u001b[0m\u001b[1;33m)\u001b[0m\u001b[1;33m\u001b[0m\u001b[0m\n\u001b[0;32m    496\u001b[0m                 \u001b[0musername\u001b[0m \u001b[1;33m=\u001b[0m \u001b[0mres\u001b[0m\u001b[1;33m[\u001b[0m\u001b[1;34m\"username\"\u001b[0m\u001b[1;33m]\u001b[0m \u001b[1;32mor\u001b[0m \u001b[0musername\u001b[0m\u001b[1;33m\u001b[0m\u001b[0m\n",
      "\u001b[1;32m~\\Anaconda3\\lib\\site-packages\\pymongo\\uri_parser.py\u001b[0m in \u001b[0;36mparse_uri\u001b[1;34m(uri, default_port, validate, warn)\u001b[0m\n\u001b[0;32m    433\u001b[0m \u001b[1;33m\u001b[0m\u001b[0m\n\u001b[0;32m    434\u001b[0m             \u001b[1;32mif\u001b[0m \u001b[0m_BAD_DB_CHARS\u001b[0m\u001b[1;33m.\u001b[0m\u001b[0msearch\u001b[0m\u001b[1;33m(\u001b[0m\u001b[0mdbase\u001b[0m\u001b[1;33m)\u001b[0m\u001b[1;33m:\u001b[0m\u001b[1;33m\u001b[0m\u001b[0m\n\u001b[1;32m--> 435\u001b[1;33m                 \u001b[1;32mraise\u001b[0m \u001b[0mInvalidURI\u001b[0m\u001b[1;33m(\u001b[0m\u001b[1;34m'Bad database name \"%s\"'\u001b[0m \u001b[1;33m%\u001b[0m \u001b[0mdbase\u001b[0m\u001b[1;33m)\u001b[0m\u001b[1;33m\u001b[0m\u001b[0m\n\u001b[0m\u001b[0;32m    436\u001b[0m \u001b[1;33m\u001b[0m\u001b[0m\n\u001b[0;32m    437\u001b[0m         \u001b[1;32mif\u001b[0m \u001b[0mopts\u001b[0m\u001b[1;33m:\u001b[0m\u001b[1;33m\u001b[0m\u001b[0m\n",
      "\u001b[1;31mInvalidURI\u001b[0m: Bad database name \"$[twitterdb]\""
     ]
    }
   ],
   "source": [
    "import connect\n",
    "from pymongo import MongoClient\n",
    "\n",
    "connection = Connect.get_connection()"
   ]
  },
  {
   "cell_type": "code",
   "execution_count": null,
   "metadata": {},
   "outputs": [],
   "source": []
  }
 ],
 "metadata": {
  "kernelspec": {
   "display_name": "Python 3",
   "language": "python",
   "name": "python3"
  },
  "language_info": {
   "codemirror_mode": {
    "name": "ipython",
    "version": 3
   },
   "file_extension": ".py",
   "mimetype": "text/x-python",
   "name": "python",
   "nbconvert_exporter": "python",
   "pygments_lexer": "ipython3",
   "version": "3.6.5"
  }
 },
 "nbformat": 4,
 "nbformat_minor": 2
}
