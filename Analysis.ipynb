{
 "cells": [
  {
   "cell_type": "code",
   "execution_count": 1,
   "metadata": {},
   "outputs": [],
   "source": [
    "import pandas as pd\n",
    "import os\n",
    "import numpy as np\n",
    "import pymongo\n",
    "from pymongo import MongoClient\n",
    "import json\n",
    "from bson import ObjectId"
   ]
  },
  {
   "cell_type": "code",
   "execution_count": 2,
   "metadata": {},
   "outputs": [
    {
     "name": "stdout",
     "output_type": "stream",
     "text": [
      "Pixiedust database opened successfully\n"
     ]
    },
    {
     "data": {
      "text/html": [
       "\n",
       "        <div style=\"margin:10px\">\n",
       "            <a href=\"https://github.com/ibm-watson-data-lab/pixiedust\" target=\"_new\">\n",
       "                <img src=\"https://github.com/ibm-watson-data-lab/pixiedust/raw/master/docs/_static/pd_icon32.png\" style=\"float:left;margin-right:10px\"/>\n",
       "            </a>\n",
       "            <span>Pixiedust version 1.1.15</span>\n",
       "        </div>\n",
       "        "
      ],
      "text/plain": [
       "<IPython.core.display.HTML object>"
      ]
     },
     "metadata": {},
     "output_type": "display_data"
    },
    {
     "name": "stdout",
     "output_type": "stream",
     "text": [
      "Unable to check latest version <urlopen error [Errno 11001] getaddrinfo failed>\n"
     ]
    }
   ],
   "source": [
    "import pixiedust"
   ]
  },
  {
   "cell_type": "code",
   "execution_count": 3,
   "metadata": {},
   "outputs": [
    {
     "data": {
      "text/html": [
       "\n",
       "            <div style=\"margin:10px\"> \n",
       "            <a href=\"https://github.com/ibm-cds-labs/pixiedust_node\" target=\"_new\"> \n",
       "            <img src=\"https://github.com/ibm-cds-labs/pixiedust_node/raw/master/docs/_images/pdn_icon32.png\" style=\"float:left;margin-right:10px\"/> \n",
       "            </a> \n",
       "            <span>Pixiedust Node.js</span> \n",
       "            </div> \n"
      ],
      "text/plain": [
       "<IPython.core.display.HTML object>"
      ]
     },
     "metadata": {},
     "output_type": "display_data"
    },
    {
     "name": "stdout",
     "output_type": "stream",
     "text": [
      "pixiedust_node 0.2.5 started. Cells starting '%%node' may contain Node.js code.\n"
     ]
    }
   ],
   "source": [
    "import pixiedust_node"
   ]
  },
  {
   "cell_type": "code",
   "execution_count": 4,
   "metadata": {},
   "outputs": [],
   "source": [
    "df=pd.read_csv('new_json.csv')"
   ]
  },
  {
   "cell_type": "code",
   "execution_count": 5,
   "metadata": {},
   "outputs": [
    {
     "data": {
      "text/html": [
       "<div>\n",
       "<style scoped>\n",
       "    .dataframe tbody tr th:only-of-type {\n",
       "        vertical-align: middle;\n",
       "    }\n",
       "\n",
       "    .dataframe tbody tr th {\n",
       "        vertical-align: top;\n",
       "    }\n",
       "\n",
       "    .dataframe thead th {\n",
       "        text-align: right;\n",
       "    }\n",
       "</style>\n",
       "<table border=\"1\" class=\"dataframe\">\n",
       "  <thead>\n",
       "    <tr style=\"text-align: right;\">\n",
       "      <th></th>\n",
       "      <th>author</th>\n",
       "      <th>description</th>\n",
       "      <th>publishedAt</th>\n",
       "      <th>source</th>\n",
       "      <th>title</th>\n",
       "      <th>url</th>\n",
       "      <th>urlToImage</th>\n",
       "      <th>category</th>\n",
       "      <th>scraping_date</th>\n",
       "    </tr>\n",
       "  </thead>\n",
       "  <tbody>\n",
       "    <tr>\n",
       "      <th>0</th>\n",
       "      <td>https://www.abc.net.au/news/jane-norman/5873958</td>\n",
       "      <td>The Liberal Party paid for Ann Sudmalis to ret...</td>\n",
       "      <td>2019-02-10T13:03:00Z</td>\n",
       "      <td>abc-news-au</td>\n",
       "      <td>Liberal Party pays for backbencher to return f...</td>\n",
       "      <td>http://www.abc.net.au/news/2019-02-11/liberal-...</td>\n",
       "      <td>https://www.abc.net.au/news/image/10255140-16x...</td>\n",
       "      <td>general</td>\n",
       "      <td>2019-02-10 20:30:37.592503</td>\n",
       "    </tr>\n",
       "    <tr>\n",
       "      <th>1</th>\n",
       "      <td>https://www.abc.net.au/news/stephen-letts/5639296</td>\n",
       "      <td>With global markets in a steep decline six wee...</td>\n",
       "      <td>2019-02-10T10:56:10Z</td>\n",
       "      <td>abc-news-au</td>\n",
       "      <td>The Fed's 'logical panic' adds more fuel to th...</td>\n",
       "      <td>http://www.abc.net.au/news/2019-02-10/federal-...</td>\n",
       "      <td>https://www.abc.net.au/news/image/10400300-16x...</td>\n",
       "      <td>general</td>\n",
       "      <td>2019-02-10 20:30:37.592503</td>\n",
       "    </tr>\n",
       "    <tr>\n",
       "      <th>2</th>\n",
       "      <td>https://www.abc.net.au/news/chelsea-heaney/107...</td>\n",
       "      <td>At least 13 people in Territory prisons are th...</td>\n",
       "      <td>2019-02-09T19:17:00Z</td>\n",
       "      <td>abc-news-au</td>\n",
       "      <td>Justin Walker has been in a Territory prison f...</td>\n",
       "      <td>http://www.abc.net.au/news/2019-02-10/justin-w...</td>\n",
       "      <td>https://www.abc.net.au/news/image/10796780-16x...</td>\n",
       "      <td>general</td>\n",
       "      <td>2019-02-10 20:30:37.592503</td>\n",
       "    </tr>\n",
       "    <tr>\n",
       "      <th>3</th>\n",
       "      <td>https://www.abc.net.au/news/kevin-nguyen/10373...</td>\n",
       "      <td>The pilot of a World War II aircraft walks awa...</td>\n",
       "      <td>2019-02-10T05:11:53Z</td>\n",
       "      <td>abc-news-au</td>\n",
       "      <td>Tiger moth plane makes emergency landing on Ne...</td>\n",
       "      <td>http://www.abc.net.au/news/2019-02-10/tiger-mo...</td>\n",
       "      <td>https://www.abc.net.au/news/image/10797974-16x...</td>\n",
       "      <td>general</td>\n",
       "      <td>2019-02-10 20:30:37.592503</td>\n",
       "    </tr>\n",
       "    <tr>\n",
       "      <th>4</th>\n",
       "      <td>Joanna Prendergast</td>\n",
       "      <td>After more than a decade on the drawing board,...</td>\n",
       "      <td>2019-02-09T09:14:40Z</td>\n",
       "      <td>abc-news-au</td>\n",
       "      <td>The farm shed invention that could power this ...</td>\n",
       "      <td>http://www.abc.net.au/news/rural/2019-02-10/we...</td>\n",
       "      <td>https://www.abc.net.au/cm/rimage/10646550-16x9...</td>\n",
       "      <td>general</td>\n",
       "      <td>2019-02-10 20:30:37.592503</td>\n",
       "    </tr>\n",
       "  </tbody>\n",
       "</table>\n",
       "</div>"
      ],
      "text/plain": [
       "                                              author  \\\n",
       "0    https://www.abc.net.au/news/jane-norman/5873958   \n",
       "1  https://www.abc.net.au/news/stephen-letts/5639296   \n",
       "2  https://www.abc.net.au/news/chelsea-heaney/107...   \n",
       "3  https://www.abc.net.au/news/kevin-nguyen/10373...   \n",
       "4                                 Joanna Prendergast   \n",
       "\n",
       "                                         description           publishedAt  \\\n",
       "0  The Liberal Party paid for Ann Sudmalis to ret...  2019-02-10T13:03:00Z   \n",
       "1  With global markets in a steep decline six wee...  2019-02-10T10:56:10Z   \n",
       "2  At least 13 people in Territory prisons are th...  2019-02-09T19:17:00Z   \n",
       "3  The pilot of a World War II aircraft walks awa...  2019-02-10T05:11:53Z   \n",
       "4  After more than a decade on the drawing board,...  2019-02-09T09:14:40Z   \n",
       "\n",
       "        source                                              title  \\\n",
       "0  abc-news-au  Liberal Party pays for backbencher to return f...   \n",
       "1  abc-news-au  The Fed's 'logical panic' adds more fuel to th...   \n",
       "2  abc-news-au  Justin Walker has been in a Territory prison f...   \n",
       "3  abc-news-au  Tiger moth plane makes emergency landing on Ne...   \n",
       "4  abc-news-au  The farm shed invention that could power this ...   \n",
       "\n",
       "                                                 url  \\\n",
       "0  http://www.abc.net.au/news/2019-02-11/liberal-...   \n",
       "1  http://www.abc.net.au/news/2019-02-10/federal-...   \n",
       "2  http://www.abc.net.au/news/2019-02-10/justin-w...   \n",
       "3  http://www.abc.net.au/news/2019-02-10/tiger-mo...   \n",
       "4  http://www.abc.net.au/news/rural/2019-02-10/we...   \n",
       "\n",
       "                                          urlToImage category  \\\n",
       "0  https://www.abc.net.au/news/image/10255140-16x...  general   \n",
       "1  https://www.abc.net.au/news/image/10400300-16x...  general   \n",
       "2  https://www.abc.net.au/news/image/10796780-16x...  general   \n",
       "3  https://www.abc.net.au/news/image/10797974-16x...  general   \n",
       "4  https://www.abc.net.au/cm/rimage/10646550-16x9...  general   \n",
       "\n",
       "                scraping_date  \n",
       "0  2019-02-10 20:30:37.592503  \n",
       "1  2019-02-10 20:30:37.592503  \n",
       "2  2019-02-10 20:30:37.592503  \n",
       "3  2019-02-10 20:30:37.592503  \n",
       "4  2019-02-10 20:30:37.592503  "
      ]
     },
     "execution_count": 5,
     "metadata": {},
     "output_type": "execute_result"
    }
   ],
   "source": [
    "df.head()"
   ]
  },
  {
   "cell_type": "code",
   "execution_count": 6,
   "metadata": {},
   "outputs": [
    {
     "name": "stdout",
     "output_type": "stream",
     "text": [
      "Mongo version 3.7.2\n"
     ]
    }
   ],
   "source": [
    "print('Mongo version', pymongo.__version__)"
   ]
  },
  {
   "cell_type": "code",
   "execution_count": 7,
   "metadata": {},
   "outputs": [],
   "source": [
    "client = MongoClient('localhost',27017)"
   ]
  },
  {
   "cell_type": "code",
   "execution_count": 8,
   "metadata": {},
   "outputs": [],
   "source": [
    "db=client.titanic"
   ]
  },
  {
   "cell_type": "code",
   "execution_count": 9,
   "metadata": {},
   "outputs": [],
   "source": [
    "collection=db.passengers"
   ]
  },
  {
   "cell_type": "code",
   "execution_count": 10,
   "metadata": {},
   "outputs": [
    {
     "data": {
      "text/plain": [
       "Collection(Database(MongoClient(host=['localhost:27017'], document_class=dict, tz_aware=False, connect=True), 'titanic'), 'passengers')"
      ]
     },
     "execution_count": 10,
     "metadata": {},
     "output_type": "execute_result"
    }
   ],
   "source": [
    "collection"
   ]
  },
  {
   "cell_type": "code",
   "execution_count": null,
   "metadata": {},
   "outputs": [],
   "source": []
  },
  {
   "cell_type": "code",
   "execution_count": null,
   "metadata": {},
   "outputs": [],
   "source": []
  },
  {
   "cell_type": "code",
   "execution_count": null,
   "metadata": {},
   "outputs": [],
   "source": []
  },
  {
   "cell_type": "code",
   "execution_count": null,
   "metadata": {},
   "outputs": [],
   "source": []
  },
  {
   "cell_type": "code",
   "execution_count": null,
   "metadata": {},
   "outputs": [],
   "source": []
  },
  {
   "cell_type": "code",
   "execution_count": null,
   "metadata": {},
   "outputs": [],
   "source": []
  },
  {
   "cell_type": "code",
   "execution_count": null,
   "metadata": {},
   "outputs": [],
   "source": []
  },
  {
   "cell_type": "code",
   "execution_count": null,
   "metadata": {},
   "outputs": [],
   "source": []
  },
  {
   "cell_type": "code",
   "execution_count": null,
   "metadata": {
    "scrolled": true
   },
   "outputs": [],
   "source": []
  },
  {
   "cell_type": "code",
   "execution_count": null,
   "metadata": {},
   "outputs": [],
   "source": []
  },
  {
   "cell_type": "code",
   "execution_count": null,
   "metadata": {},
   "outputs": [],
   "source": []
  },
  {
   "cell_type": "code",
   "execution_count": null,
   "metadata": {},
   "outputs": [],
   "source": []
  }
 ],
 "metadata": {
  "kernelspec": {
   "display_name": "Python 3",
   "language": "python",
   "name": "python3"
  },
  "language_info": {
   "codemirror_mode": {
    "name": "ipython",
    "version": 3
   },
   "file_extension": ".py",
   "mimetype": "text/x-python",
   "name": "python",
   "nbconvert_exporter": "python",
   "pygments_lexer": "ipython3",
   "version": "3.6.5"
  }
 },
 "nbformat": 4,
 "nbformat_minor": 2
}
